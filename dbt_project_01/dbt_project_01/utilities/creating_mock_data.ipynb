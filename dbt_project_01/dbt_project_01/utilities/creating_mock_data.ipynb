{
 "cells": [
  {
   "cell_type": "markdown",
   "metadata": {},
   "source": [
    "#### INDEX <a id=\"index\"></a>\n",
    "##### - [Run Data Base Connection](#mark_00)\n",
    "##### - [Cursor Instantiation](#mark_01)\n",
    "##### - [Create Table](#mark_02)\n",
    "##### - [Insert Into](#mark_03)\n",
    "##### - [Drop Schema](#mark_04)\n",
    "##### - [Create Schema](#mark_05)\n",
    "##### - [To print result](#mark_06)\n",
    "##### - [Close Cursor and Connection](#mark_07)\n",
    "##### - [Run Models](#mark_08)\n",
    "##### - [Run Test](#mark_09)"
   ]
  },
  {
   "cell_type": "markdown",
   "metadata": {},
   "source": [
    "### Run Data Base Connection <a id=\"mark_00\"></a> [BACK TO INDEX](#index)"
   ]
  },
  {
   "cell_type": "code",
   "execution_count": 26,
   "metadata": {},
   "outputs": [],
   "source": [
    "%run 'ddbb_connection.ipynb'"
   ]
  },
  {
   "cell_type": "markdown",
   "metadata": {},
   "source": [
    "### Cursor Instantiation <a id=\"mark_01\"></a> [BACK TO INDEX](#index)"
   ]
  },
  {
   "cell_type": "code",
   "execution_count": 27,
   "metadata": {},
   "outputs": [],
   "source": [
    "cursor = conn.cursor()"
   ]
  },
  {
   "cell_type": "markdown",
   "metadata": {},
   "source": [
    "### Create Table <a id=\"mark_02\"></a> [BACK TO INDEX](#index)"
   ]
  },
  {
   "cell_type": "code",
   "execution_count": 29,
   "metadata": {
    "scrolled": true
   },
   "outputs": [],
   "source": [
    "cursor.execute(\"\"\"CREATE TABLE public.dev_main_file_binary_ts (\n",
    "    file_content TEXT,\n",
    "    file_path TEXT,\n",
    "    file_name TEXT,\n",
    "    modification_time TEXT);\"\"\")\n",
    "conn.commit()"
   ]
  },
  {
   "cell_type": "code",
   "execution_count": 3,
   "metadata": {},
   "outputs": [],
   "source": [
    "cursor.execute(\"\"\"DROP TABLE dev_main_file_binary_issues;\"\"\")\n",
    "conn.commit()"
   ]
  },
  {
   "cell_type": "markdown",
   "metadata": {},
   "source": [
    "### Insert Into <a id=\"mark_03\"></a> [BACK TO INDEX](#index)"
   ]
  },
  {
   "cell_type": "code",
   "execution_count": 31,
   "metadata": {},
   "outputs": [],
   "source": [
    "cursor.execute(\"\"\"INSERT INTO dev_main_file_binary_ts (file_content, file_path, file_name, modification_time)\n",
    "VALUES\n",
    "('Binary_content_05', 'abfss://ebmethods-sink@5bxa9x2b6qcvk144k2wx8fbs.dfs.core.windows.net/mustang/regression/2024/04/13/tns_mustang_regression_706499013_20240413160150', 'tns_mustang_regression_706499013_20240413160150.xml', '2024-04-19 21:31:49.871680'),\n",
    "('binary_content_06', 'abfss://webmethods-sink@5bxa9x2b6qcvk144k2wx8fbs.dfs.core.windows.net/mustang/regression/2024/04/13/tns_mustang_regression_706499013_20240413160151', 'tns_mustang_regression_706499013_20240413160151.xml', '2024-04-19 21:31:49.871681'),\n",
    "('Tinary_content_07', 'abfss://ebmethods-sink@5bxa9x2b6qcvk144k2wx8fbs.dfs.core.windows.net/mustang/regression/2024/04/13/tns_mustang_regression_706499013_20240413160152', 'tns_mustang_regression_706499013_20240413160152.xml', '2024-04-19 21:31:49.871682'),\n",
    "('binary_content_08', 'abfss://webmethods-sink@5bxa9x2b6qcvk144k2wx8fbs.dfs.core.windows.net/mustang/regression/2024/04/13/tns_mustang_regression_706499013_20240413160153', 'tns_mustang_regression_706499013_20240413160153.xml', '2024-04-19 21:31:49.871683'),\n",
    "('binary_content_09', 'abfss://webmethods-sink@5bxa9x2b6qcvk144k2wx8fbs.dfs.core.windows.net/mustang/regression/2024/04/13/tns_mustang_regression_706499013_20240413160154', 'tns_mustang_regression_706499013_20240413160154.xml', '2024-04-19 21:31:49.871684');\"\"\")\n",
    "conn.commit()"
   ]
  },
  {
   "cell_type": "markdown",
   "metadata": {},
   "source": [
    "### Drop Schema <a id=\"mark_04\"></a> [BACK TO INDEX](#index)"
   ]
  },
  {
   "cell_type": "code",
   "execution_count": 20,
   "metadata": {},
   "outputs": [],
   "source": [
    "cursor.execute(\"\"\"DROP SCHEMA public CASCADE;\"\"\")\n",
    "conn.commit()"
   ]
  },
  {
   "cell_type": "markdown",
   "metadata": {},
   "source": [
    "### Create Schema <a id=\"mark_05\"></a> [BACK TO INDEX](#index)"
   ]
  },
  {
   "cell_type": "code",
   "execution_count": 28,
   "metadata": {},
   "outputs": [],
   "source": [
    "cursor.execute(\"\"\"CREATE SCHEMA public;\"\"\")\n",
    "conn.commit()"
   ]
  },
  {
   "cell_type": "markdown",
   "metadata": {},
   "source": [
    "### To print results <a id=\"mark_06\"></a> [BACK TO INDEX](#index)"
   ]
  },
  {
   "cell_type": "code",
   "execution_count": 11,
   "metadata": {
    "scrolled": true
   },
   "outputs": [],
   "source": [
    "\"\"\"\n",
    "Copy - Paste below every execution to print results.\n",
    "\"\"\"\n",
    "#results = cursor.fetchall()\n",
    "#print(results)"
   ]
  },
  {
   "cell_type": "markdown",
   "metadata": {},
   "source": [
    "### Close Cursor and Connection <a id=\"mark_07\"></a> [BACK TO INDEX](#index)"
   ]
  },
  {
   "cell_type": "code",
   "execution_count": 48,
   "metadata": {},
   "outputs": [],
   "source": [
    "cursor.close()\n",
    "conn.close()\n"
   ]
  },
  {
   "cell_type": "markdown",
   "metadata": {},
   "source": [
    "### Run Models <a id=\"mark_08\"></a> [BACK TO INDEX](#index)"
   ]
  },
  {
   "cell_type": "code",
   "execution_count": 32,
   "metadata": {},
   "outputs": [
    {
     "name": "stdout",
     "output_type": "stream",
     "text": [
      "\u001b[33mWARNING:\u001b[0m version \u001b[32m0.37.10\u001b[0m of the dbt Cloud CLI is now available. As of now, old versions are not actively supported - update now!\n",
      "\n",
      "\u001b[1AEncountered an error loading configuration: dbt_cloud.yml credentials file for dbt Cloud not found. Download your credentials file from dbt Cloud to `/home/leonardo_mendez/.dbt`\n",
      "\n",
      "\u001b[?25h\n"
     ]
    }
   ],
   "source": [
    "#!dbt run --select \"my_dbt_project_name\"   # runs all models in your project\n",
    "#!dbt run --select \"my_dbt_model\"          # runs a specific model\n",
    "#!dbt run --select \"path/to/my/models\"     # runs all models in a specific directory\n",
    "#!dbt run --select \"my_package.some_model\" # run a specific model in a specific package\n",
    "#!dbt run --select \"tag:nightly\"           # run models with the \"nightly\" tag\n",
    "#!dbt run --select \"models/dev_main_file_binary/dev_main_file_binary_ts.sql\"        # run models contained in path/to/models\n",
    "#!dbt run --select \"models/dev_main_file_binary\" dbt_artifacts                         # run models contained in path/to/models + dbt_artifacts\n",
    "#!dbt run --select \"path/to/my_model.sql\"  # run a specific model by its path\n",
    "!dbt run"
   ]
  },
  {
   "cell_type": "markdown",
   "metadata": {},
   "source": [
    "### Run Tests <a id=\"mark_09\"></a> [BACK TO INDEX](#index)"
   ]
  },
  {
   "cell_type": "code",
   "execution_count": 14,
   "metadata": {},
   "outputs": [
    {
     "name": "stdout",
     "output_type": "stream",
     "text": [
      "\u001b[0m22:24:27  Running with dbt=1.7.12\n",
      "\u001b[0m22:24:28  Registered adapter: postgres=1.7.12\n",
      "\u001b[0m22:24:36  [\u001b[33mWARNING\u001b[0m]: Configuration paths exist in your dbt_project.yml file which do not apply to any resources.\n",
      "There are 1 unused configuration paths:\n",
      "- models.dbt_project_01.vars\n",
      "\u001b[0m22:24:36  Found 38 models, 13 tests, 1 operation, 0 sources, 0 exposures, 0 metrics, 749 macros, 0 groups, 0 semantic models\n",
      "\u001b[0m22:24:36  \n",
      "\u001b[0m22:24:37  Concurrency: 1 threads (target='dev')\n",
      "\u001b[0m22:24:37  \n",
      "\u001b[0m22:24:37  1 of 8 START test generic_not_null_dev_main_file_binary_ts_file_content ........ [RUN]\n",
      "\u001b[0m22:24:37  1 of 8 PASS generic_not_null_dev_main_file_binary_ts_file_content .............. [\u001b[32mPASS\u001b[0m in 0.21s]\n",
      "\u001b[0m22:24:37  2 of 8 START test generic_not_null_dev_main_file_binary_ts_file_name ........... [RUN]\n",
      "\u001b[0m22:24:37  2 of 8 PASS generic_not_null_dev_main_file_binary_ts_file_name ................. [\u001b[32mPASS\u001b[0m in 0.14s]\n",
      "\u001b[0m22:24:37  3 of 8 START test generic_not_null_dev_main_file_binary_ts_file_path ........... [RUN]\n",
      "\u001b[0m22:24:37  3 of 8 PASS generic_not_null_dev_main_file_binary_ts_file_path ................. [\u001b[32mPASS\u001b[0m in 0.18s]\n",
      "\u001b[0m22:24:37  4 of 8 START test generic_not_null_dev_main_file_binary_ts_modification_time ... [RUN]\n",
      "\u001b[0m22:24:37  4 of 8 PASS generic_not_null_dev_main_file_binary_ts_modification_time ......... [\u001b[32mPASS\u001b[0m in 0.22s]\n",
      "\u001b[0m22:24:37  5 of 8 START test generic_regex_dev_main_file_binary_ts_file_content__binary_content__d_2_  [RUN]\n",
      "\u001b[0m22:24:38  5 of 8 FAIL 1 generic_regex_dev_main_file_binary_ts_file_content__binary_content__d_2_  [\u001b[31mFAIL 1\u001b[0m in 0.22s]\n",
      "\u001b[0m22:24:38  6 of 8 START test generic_regex_dev_main_file_binary_ts_file_name__tns_mustang_regression__d_9___d_14_xml  [RUN]\n",
      "\u001b[0m22:24:38  6 of 8 PASS generic_regex_dev_main_file_binary_ts_file_name__tns_mustang_regression__d_9___d_14_xml  [\u001b[32mPASS\u001b[0m in 0.19s]\n",
      "\u001b[0m22:24:38  7 of 8 START test generic_regex_dev_main_file_binary_ts_file_path__abfss_webmethods_a_z0_9_dfs_core_windows_net_mustang_regression_d_4_d_2_d_2_tns_mustang_regression__d_9___d_14_  [RUN]\n",
      "\u001b[0m22:24:38  7 of 8 FAIL 4 generic_regex_dev_main_file_binary_ts_file_path__abfss_webmethods_a_z0_9_dfs_core_windows_net_mustang_regression_d_4_d_2_d_2_tns_mustang_regression__d_9___d_14_  [\u001b[31mFAIL 4\u001b[0m in 0.14s]\n",
      "\u001b[0m22:24:38  8 of 8 START test generic_regex_dev_main_file_binary_ts_modification_time___202_01234_0_1_9_1_0_2_0_1_9_1_0_9_2_0_9_3_0_1_0_0_9_1_0_9_2_0_4_0_0_9_1_0_9_2_0_9_3_0_9_4_0_9_5_0_9_60_2_d_6_  [RUN]\n",
      "\u001b[0m22:24:38  8 of 8 ERROR generic_regex_dev_main_file_binary_ts_modification_time___202_01234_0_1_9_1_0_2_0_1_9_1_0_9_2_0_9_3_0_1_0_0_9_1_0_9_2_0_4_0_0_9_1_0_9_2_0_9_3_0_9_4_0_9_5_0_9_60_2_d_6_  [\u001b[31mERROR\u001b[0m in 0.14s]\n",
      "\u001b[0m22:24:38  \n",
      "\u001b[0m22:24:38  Running 1 on-run-end hook\n",
      "\u001b[0m22:24:38  Uploading model executions\n",
      "\u001b[0m22:24:38  Uploading seed executions\n",
      "\u001b[0m22:24:38  Uploading test executions\n",
      "\u001b[0m22:24:38  Uploading snapshot executions\n",
      "\u001b[0m22:24:38  Uploading exposures\n",
      "\u001b[0m22:24:38  Uploading seeds\n",
      "\u001b[0m22:24:38  Uploading snapshots\n",
      "\u001b[0m22:24:38  Uploading invocations\n",
      "\u001b[0m22:24:38  Uploading sources\n",
      "\u001b[0m22:24:38  Uploading tests\n",
      "\u001b[0m22:24:38  Uploading models\n",
      "\u001b[0m22:24:38  1 of 1 START hook: dbt_project_01.on-run-end.0 ................................. [RUN]\n",
      "\u001b[0m22:24:38  1 of 1 OK hook: dbt_project_01.on-run-end.0 .................................... [\u001b[32mOK\u001b[0m in 0.00s]\n",
      "\u001b[0m22:24:38  \n",
      "\u001b[0m22:24:38  \n",
      "\u001b[0m22:24:38  Finished running 8 tests, 1 hook in 0 hours 0 minutes and 2.08 seconds (2.08s).\n",
      "\u001b[0m22:24:38  \n",
      "\u001b[0m22:24:38  \u001b[31mCompleted with 3 errors and 0 warnings:\u001b[0m\n",
      "\u001b[0m22:24:38  \n",
      "\u001b[0m22:24:38  \u001b[31mFailure in test generic_regex_dev_main_file_binary_ts_file_content__binary_content__d_2_ (models/dev_main_file_binary/omg_config.yml)\u001b[0m\n",
      "\u001b[0m22:24:38    Got 1 result, configured to fail if != 0\n",
      "\u001b[0m22:24:38  \n",
      "\u001b[0m22:24:39    compiled Code at target/compiled/dbt_project_01/models/dev_main_file_binary/omg_config.yml/generic_regex_dev_main_file_bi_5e141a2a598b7654238a832b045fe500.sql\n",
      "\u001b[0m22:24:39  \n",
      "\u001b[0m22:24:39    See test failures:\n",
      "  -------------------------------------------------------------------------------------------------------------------\n",
      "  select * from \"postgres\".\"public_dbt_test__audit\".\"generic_regex_dev_main_file_bi_5e141a2a598b7654238a832b045fe500\"\n",
      "  -------------------------------------------------------------------------------------------------------------------\n",
      "\u001b[0m22:24:39  \n",
      "\u001b[0m22:24:39  \u001b[31mFailure in test generic_regex_dev_main_file_binary_ts_file_path__abfss_webmethods_a_z0_9_dfs_core_windows_net_mustang_regression_d_4_d_2_d_2_tns_mustang_regression__d_9___d_14_ (models/dev_main_file_binary/omg_config.yml)\u001b[0m\n",
      "\u001b[0m22:24:39    Got 4 results, configured to fail if != 0\n",
      "\u001b[0m22:24:39  \n",
      "\u001b[0m22:24:39    compiled Code at target/compiled/dbt_project_01/models/dev_main_file_binary/omg_config.yml/generic_regex_dev_main_file_bi_493d1b464ff7f5bacd3bd18b0685038d.sql\n",
      "\u001b[0m22:24:39  \n",
      "\u001b[0m22:24:39    See test failures:\n",
      "  -------------------------------------------------------------------------------------------------------------------\n",
      "  select * from \"postgres\".\"public_dbt_test__audit\".\"generic_regex_dev_main_file_bi_493d1b464ff7f5bacd3bd18b0685038d\"\n",
      "  -------------------------------------------------------------------------------------------------------------------\n",
      "\u001b[0m22:24:39  \n",
      "\u001b[0m22:24:39    Database Error in test generic_regex_dev_main_file_binary_ts_modification_time___202_01234_0_1_9_1_0_2_0_1_9_1_0_9_2_0_9_3_0_1_0_0_9_1_0_9_2_0_4_0_0_9_1_0_9_2_0_9_3_0_9_4_0_9_5_0_9_60_2_d_6_ (models/dev_main_file_binary/omg_config.yml)\n",
      "  operator does not exist: timestamp without time zone ~* unknown\n",
      "  LINE 17:     where not modification_time ~* '(202)[01234]-(0[1-9]|1[0...\n",
      "                                           ^\n",
      "  HINT:  No operator matches the given name and argument types. You might need to add explicit type casts.\n",
      "\u001b[0m22:24:39  \n",
      "\u001b[0m22:24:39  Done. PASS=5 WARN=0 ERROR=3 SKIP=0 TOTAL=8\n"
     ]
    }
   ],
   "source": [
    "#!dbt test --select \"one_specific_model\" # run tests for one_specific_model\n",
    "#!dbt test --select \"some_package.*\"    # run tests for all models in package\n",
    "#!dbt test --select \"test_type:singular\" # run only tests defined singularly\n",
    "#!dbt test --select \"test_type:generic\" # run only tests defined generically\n",
    "#!dbt test --select \"one_specific_model,test_type:singular\" # run singular tests limited to one_specific_model\n",
    "#!dbt test --select \"models/dev_main_file_binary/dev_main_file_binary_ts.sql,test_type:generic\" # run generic tests limited to one_specific_model\n",
    "!dbt test --select \"models/dev_main_file_binary,test_type:generic\" dbt_artifacts # run generic tests limited to one_specific_model + generic + dbt_artifacts"
   ]
  }
 ],
 "metadata": {
  "kernelspec": {
   "display_name": "Python 3 (ipykernel)",
   "language": "python",
   "name": "python3"
  },
  "language_info": {
   "codemirror_mode": {
    "name": "ipython",
    "version": 3
   },
   "file_extension": ".py",
   "mimetype": "text/x-python",
   "name": "python",
   "nbconvert_exporter": "python",
   "pygments_lexer": "ipython3",
   "version": "3.10.12"
  }
 },
 "nbformat": 4,
 "nbformat_minor": 2
}
