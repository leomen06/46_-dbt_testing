{
 "cells": [
  {
   "cell_type": "markdown",
   "id": "293f92cc-177a-4432-b321-aaa5857cd0da",
   "metadata": {},
   "source": [
    "### \"dbt\" \"Data Build Tool\".\n",
    "\n",
    "### Index <a id=\"index\"></a>\n",
    "\n",
    "### [ERROR, WARNING AND, QUARANTINE SCOPE](#mark_00)\n",
    "\n",
    "### [Handle ERRORS dbt](#mark_01)\n",
    "\n",
    "### [Handle WARNINGS dbt](#mark_02)\n",
    "\n",
    "### [Handle QUARANTINE](#mark_03)\n",
    "\n",
    "### [How can we surface test outcomes as data?](#mark_04)"
   ]
  },
  {
   "cell_type": "markdown",
   "id": "dd013de7-1fc6-4fa2-9879-081a7b8a9da9",
   "metadata": {},
   "source": [
    "### ERROR, WARNING, AND QUARANTINE SCOPE: <a id=\"mark_00\"></a> [Back to Index](#index)\n",
    "\n",
    "**Error broken pipeline:** \n",
    "\n",
    "    - Serious failure during the data ingesting or its transformation and it doesn't allow finalize a job.\n",
    "    - Types of Errors: Syntax, Logic, connections, performance/ time-out, corrupted data/ files not well-formed, set-up.\n",
    "    - Action: Fix the Error.\n",
    "\n",
    "**Warning:**\n",
    "\n",
    "    - Potential issues during the data ingesting or its transformation, but the job can be finalized.\n",
    "    - Type of Warnings: Data Quality Issues.\n",
    "    - Action: Fix the bug.\n",
    "\n",
    "**Quarantine (question: quarantine \"concept\" will be used during or after the jobs):**\n",
    "\n",
    "    - Files that don't achieve the expected format.\n",
    "    - Corrupted data/ files not well-formed.\n",
    "    - Action: Re-ingest/ Re-Transform.\n",
    "\n"
   ]
  },
  {
   "cell_type": "markdown",
   "id": "bf4a32a6-a31c-4dde-9639-f7855da971a3",
   "metadata": {},
   "source": [
    "### Handle ERRORS dbt: <a id=\"mark_01\"></a> [Back to Index](#index)\n"
   ]
  },
  {
   "cell_type": "markdown",
   "id": "587bc87e-772a-4470-82dc-32f91c2f0ef8",
   "metadata": {},
   "source": [
    "### Handle WARNINGS dbt: <a id=\"mark_02\"></a> [Back to Index](#index)\n"
   ]
  },
  {
   "cell_type": "markdown",
   "id": "74cfbf73-8929-4cdb-bb69-b8376503b45a",
   "metadata": {},
   "source": [
    "### Handle QUARANTINE: <a id=\"mark_03\"></a> [Back to Index](#index)\n"
   ]
  },
  {
   "cell_type": "markdown",
   "id": "0d89f71b-dbf2-4a74-a6df-e3ea07bfb35e",
   "metadata": {},
   "source": [
    "### How can we surface test outcomes as data?\": <a id=\"mark_04\"></a> [Back to Index](#index)\n",
    "\n",
    "**Scope:**\n",
    "\n",
    "    - After testing runs.\n",
    "    \n",
    "**Scenarios:**\n",
    "\n",
    "        - outcomes transformation (as structured data) --> **\"dbt-artifacts\"**, **\"dbt-artifacts-cli\"**, and or **\"custom scripts\"**.\n",
    "        - outcomes storage --> **\"dbt-artifacts\"**, **\"dbt-artifacts-cli\"**, and or **\"custom scripts\"** , to extraction and storage in DDBB.\n",
    "        - outcomes analysis.\n",
    "        - outcomes visualization --> Integration with **Tableau**/ **Looker**, or **custom visualization** (PD DataFrames --> matplotlib, seaborn).\n",
    "\n",
    "**configuration, incremental**: https://docs.getdbt.com/docs/build/incremental-models\n",
    "\n",
    "models/stg_events.sql\n",
    "\n",
    "```sql\n",
    "{{ config(materialized='incremental') }}\n",
    "\n",
    "select\n",
    "    *,\n",
    "    my_slow_function(my_column)\n",
    "\n",
    "from {{ ref('app_data_events') }}\n",
    "\n",
    "{% if is_incremental() %}\n",
    "\n",
    "  -- this filter will only be applied on an incremental run\n",
    "  -- (uses >= to include records whose timestamp occurred since the last run of this model)\n",
    "  where event_time > (select max(event_time) from {{ this }})\n",
    "\n",
    "{% endif %}\n",
    "\n",
    "```\n",
    "**1. dbt-artifacts:**\n",
    "\n"
   ]
  },
  {
   "cell_type": "code",
   "execution_count": null,
   "id": "9aab27a7-d038-4119-bfd1-bbb03ca74d70",
   "metadata": {},
   "outputs": [],
   "source": []
  },
  {
   "cell_type": "code",
   "execution_count": null,
   "id": "d41c7ff8-d029-44e7-b70d-3cd48f65f8a5",
   "metadata": {},
   "outputs": [],
   "source": []
  },
  {
   "cell_type": "code",
   "execution_count": null,
   "id": "f7cb5ea7-fdb9-4541-8201-8ce8a931827d",
   "metadata": {},
   "outputs": [],
   "source": []
  }
 ],
 "metadata": {
  "kernelspec": {
   "display_name": "jupyter_kernel_01",
   "language": "python",
   "name": "data_trans_env"
  },
  "language_info": {
   "codemirror_mode": {
    "name": "ipython",
    "version": 3
   },
   "file_extension": ".py",
   "mimetype": "text/x-python",
   "name": "python",
   "nbconvert_exporter": "python",
   "pygments_lexer": "ipython3",
   "version": "3.11.8"
  }
 },
 "nbformat": 4,
 "nbformat_minor": 5
}
