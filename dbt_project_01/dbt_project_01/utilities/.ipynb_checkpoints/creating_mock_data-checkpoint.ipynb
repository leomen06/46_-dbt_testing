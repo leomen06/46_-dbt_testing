{
 "cells": [
  {
   "cell_type": "code",
   "execution_count": 62,
   "metadata": {},
   "outputs": [],
   "source": [
    "%run 'ddbb_connection.ipynb'"
   ]
  },
  {
   "cell_type": "code",
   "execution_count": 63,
   "metadata": {},
   "outputs": [],
   "source": [
    "cursor = conn.cursor()"
   ]
  },
  {
   "cell_type": "code",
   "execution_count": 59,
   "metadata": {
    "scrolled": true
   },
   "outputs": [],
   "source": [
    "cursor.execute(\"\"\"CREATE TABLE public.dev_main_file_binary_ts1 (\n",
    "    file_content TEXT,\n",
    "    file_path TEXT,\n",
    "    file_name TEXT,\n",
    "    modification_time TIMESTAMP);\"\"\")\n",
    "conn.commit()"
   ]
  },
  {
   "cell_type": "code",
   "execution_count": 66,
   "metadata": {},
   "outputs": [],
   "source": [
    "cursor.execute(\"\"\"INSERT INTO dev_main_file_binary_ts1 (file_content, file_path, file_name, modification_time)\n",
    "VALUES\n",
    "('Binary_content_00', 'abfss://webmethods-sink@5bxa9x2b6qcvk144k2wx8fbs.dfs.core.windows.net/mustang/regression/2024/04/13/tns_mustang_regression_706499013_20240413160150', 'tns_mustang_regression_706499013_20240413160150.xml', '2024-04-19 21:31:49.871680'),\n",
    "('Binary_content_01', 'abfss://webmethods-sink@5bxa9x2b6qcvk144k2wx8fbs.dfs.core.windows.net/mustang/regression/2024/04/13/tns_mustang_regression_706499013_20240413160151', 'tns_mustang_regression_706499013_20240413160151.xml', '2024-04-19 21:31:49.871681'),\n",
    "('Binary_content_02', 'abfss://webmethods-sink@5bxa9x2b6qcvk144k2wx8fbs.dfs.core.windows.net/mustang/regression/2024/04/13/tns_mustang_regression_706499013_20240413160152', 'tns_mustang_regression_706499013_20240413160152.xml', '2024-04-19 21:31:49.871682'),\n",
    "('Binary_content_03', 'abfss://webmethods-sink@5bxa9x2b6qcvk144k2wx8fbs.dfs.core.windows.net/mustang/regression/2024/04/13/tns_mustang_regression_706499013_20240413160153', 'tns_mustang_regression_706499013_20240413160153.xml', '2024-04-19 21:31:49.871683'),\n",
    "('Binary_content_04', 'abfss://webmethods-sink@5bxa9x2b6qcvk144k2wx8fbs.dfs.core.windows.net/mustang/regression/2024/04/13/tns_mustang_regression_706499013_20240413160154', 'tns_mustang_regression_706499013_20240413160154.xml', '2024-04-19 21:31:49.871684');\"\"\")\n",
    "conn.commit()"
   ]
  },
  {
   "cell_type": "code",
   "execution_count": 67,
   "metadata": {
    "scrolled": true
   },
   "outputs": [
    {
     "ename": "ProgrammingError",
     "evalue": "no results to fetch",
     "output_type": "error",
     "traceback": [
      "\u001b[0;31m---------------------------------------------------------------------------\u001b[0m",
      "\u001b[0;31mProgrammingError\u001b[0m                          Traceback (most recent call last)",
      "Cell \u001b[0;32mIn[67], line 1\u001b[0m\n\u001b[0;32m----> 1\u001b[0m results \u001b[38;5;241m=\u001b[39m \u001b[43mcursor\u001b[49m\u001b[38;5;241;43m.\u001b[39;49m\u001b[43mfetchall\u001b[49m\u001b[43m(\u001b[49m\u001b[43m)\u001b[49m\n",
      "\u001b[0;31mProgrammingError\u001b[0m: no results to fetch"
     ]
    }
   ],
   "source": [
    "results = cursor.fetchall()"
   ]
  },
  {
   "cell_type": "code",
   "execution_count": 43,
   "metadata": {},
   "outputs": [
    {
     "name": "stdout",
     "output_type": "stream",
     "text": [
      "[('68a9838c-e752-47dd-86b8-ddb10240e3ab', 'test.dbt_project_01.generic_not_null_dev_main_file_binary_ts_file_content.8a863b9049', datetime.datetime(2024, 4, 19, 21, 31, 49, 871687), False, 'Thread-1 (worker)', 'pass', datetime.datetime(2024, 4, 19, 21, 31, 57, 467242), datetime.datetime(2024, 4, 19, 21, 31, 57, 587619), 0.13024020195007324, None, 0, 'None', '{\"_message\": \"SELECT 1\", \"code\": \"SELECT\", \"rows_affected\": 1}')]\n"
     ]
    }
   ],
   "source": [
    "print(results)"
   ]
  },
  {
   "cell_type": "code",
   "execution_count": 36,
   "metadata": {},
   "outputs": [],
   "source": [
    "cursor.close()\n",
    "conn.close()\n"
   ]
  }
 ],
 "metadata": {
  "kernelspec": {
   "display_name": "Python 3 (ipykernel)",
   "language": "python",
   "name": "python3"
  },
  "language_info": {
   "codemirror_mode": {
    "name": "ipython",
    "version": 3
   },
   "file_extension": ".py",
   "mimetype": "text/x-python",
   "name": "python",
   "nbconvert_exporter": "python",
   "pygments_lexer": "ipython3",
   "version": "3.10.9"
  }
 },
 "nbformat": 4,
 "nbformat_minor": 2
}
